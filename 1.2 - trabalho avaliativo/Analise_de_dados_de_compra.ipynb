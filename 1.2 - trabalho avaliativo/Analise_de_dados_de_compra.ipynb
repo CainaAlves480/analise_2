{
 "cells": [
  {
   "cell_type": "code",
   "execution_count": null,
   "metadata": {},
   "outputs": [],
   "source": [
    "## Tarefa: Analisar o Comportamento de Compra de Consumidores."
   ]
  },
  {
   "cell_type": "markdown",
   "metadata": {},
   "source": [
    "Você recebeu a tarefa de analisar os dados de compras de um web site! Os dados estão no formato JSON.\n",
    "\n",
    "No site, cada usuário efetua login usando sua conta pessoal e pode adquirir produtos à medida que navega pela lista de produtos oferecidos. Cada produto possui um valor de venda. Dados de idade e sexo de cada usuário foram coletados e estão fornecidos no arquivo JSON.\n",
    "\n",
    "Seu trabalho é entregar uma análise de comportamento de compra dos consumidores. Esse é um tipo de atividade comum realizado por Cientistas de Dados e o resultado deste trabalho pode ser usado, por exemplo, para alimentar um modelo de Machine Learning e fazer previsões sobre comportamentos futuros.\n",
    "\n",
    "Mas nesta missão você vai analisar o comportamento de compra dos consumidores na linguagem Python e seu relatório final deve incluir cada um dos seguintes itens:\n",
    "\n",
    "**Contagem de Compradores**\n",
    "\n",
    "* Número total de compradores\n",
    "\n",
    "\n",
    "**Análise Geral de Compras**\n",
    "\n",
    "* Número de itens exclusivos\n",
    "* Preço médio de compra\n",
    "* Número total de compras\n",
    "* Rendimento total\n",
    "\n",
    "\n",
    "**Informações Demográficas Por Gênero**\n",
    "\n",
    "* Porcentagem e contagem de compradores masculinos\n",
    "* Porcentagem e contagem de compradores do sexo feminino\n",
    "* Porcentagem e contagem de outros / não divulgados\n",
    "\n",
    "\n",
    "**Análise de Compras Por Gênero**\n",
    "\n",
    "* Número de compras\n",
    "* Preço médio de compra\n",
    "* Valor Total de Compra\n",
    "* Compras for faixa etária\n",
    "\n",
    "\n",
    "**Identifique os 5 principais compradores pelo valor total de compra e, em seguida, liste:**\n",
    "\n",
    "* Login\n",
    "* Número de compras\n",
    "* Preço médio de compra\n",
    "* Valor Total de Compra\n",
    "* Itens mais populares\n",
    "\n",
    "\n",
    "**Identifique os 5 itens mais populares por contagem de compras e, em seguida, liste:**\n",
    "\n",
    "* ID do item\n",
    "* Nome do item\n",
    "* Número de compras\n",
    "* Preço do item\n",
    "* Valor Total de Compra\n",
    "\n",
    "\n",
    "**Identifique os 5 itens mais lucrativos pelo valor total de compra e, em seguida, liste:**\n",
    "\n",
    "* ID do item\n",
    "* Nome do item\n",
    "* Número de compras\n",
    "* Preço do item\n",
    "* Valor Total de Compra\n",
    "\n",
    "\n",
    "**Como considerações finais:**\n",
    "\n",
    "* Seu script deve funcionar para o conjunto de dados fornecido.\n",
    "* Eu sugiro o uso dos pacotes numpy e pandas, porém serão aceitos quaisquer outros pacotes utilizados.\n",
    "* A biblioteca pandas possui funções implementadas que permitem a realização de quase todas as tarefas desse exercício sem necessidade de utilizar comandos de repetição (for ou while). Portanto procurem as funções desse pacote que melhor auxiliem na resolução dessa atividade.  \n"
   ]
  },
  {
   "cell_type": "code",
   "execution_count": null,
   "metadata": {},
   "outputs": [],
   "source": []
  },
  {
   "cell_type": "code",
   "execution_count": 93,
   "metadata": {},
   "outputs": [],
   "source": [
    "# Imports\n",
    "import pandas as pd\n",
    "import numpy as np"
   ]
  },
  {
   "cell_type": "code",
   "execution_count": 159,
   "metadata": {},
   "outputs": [
    {
     "data": {
      "text/html": [
       "<div>\n",
       "<style scoped>\n",
       "    .dataframe tbody tr th:only-of-type {\n",
       "        vertical-align: middle;\n",
       "    }\n",
       "\n",
       "    .dataframe tbody tr th {\n",
       "        vertical-align: top;\n",
       "    }\n",
       "\n",
       "    .dataframe thead th {\n",
       "        text-align: right;\n",
       "    }\n",
       "</style>\n",
       "<table border=\"1\" class=\"dataframe\">\n",
       "  <thead>\n",
       "    <tr style=\"text-align: right;\">\n",
       "      <th></th>\n",
       "      <th>Login</th>\n",
       "      <th>Idade</th>\n",
       "      <th>Sexo</th>\n",
       "      <th>Item ID</th>\n",
       "      <th>Nome do Item</th>\n",
       "      <th>Valor</th>\n",
       "    </tr>\n",
       "  </thead>\n",
       "  <tbody>\n",
       "    <tr>\n",
       "      <th>0</th>\n",
       "      <td>Aelalis34</td>\n",
       "      <td>38</td>\n",
       "      <td>Masculino</td>\n",
       "      <td>165</td>\n",
       "      <td>Bone Crushing Silver Skewer</td>\n",
       "      <td>3.37</td>\n",
       "    </tr>\n",
       "    <tr>\n",
       "      <th>1</th>\n",
       "      <td>Eolo46</td>\n",
       "      <td>21</td>\n",
       "      <td>Masculino</td>\n",
       "      <td>119</td>\n",
       "      <td>Stormbringer, Dark Blade of Ending Misery</td>\n",
       "      <td>2.32</td>\n",
       "    </tr>\n",
       "    <tr>\n",
       "      <th>2</th>\n",
       "      <td>Assastnya25</td>\n",
       "      <td>34</td>\n",
       "      <td>Masculino</td>\n",
       "      <td>174</td>\n",
       "      <td>Primitive Blade</td>\n",
       "      <td>2.46</td>\n",
       "    </tr>\n",
       "    <tr>\n",
       "      <th>3</th>\n",
       "      <td>Pheusrical25</td>\n",
       "      <td>21</td>\n",
       "      <td>Masculino</td>\n",
       "      <td>92</td>\n",
       "      <td>Final Critic</td>\n",
       "      <td>1.36</td>\n",
       "    </tr>\n",
       "    <tr>\n",
       "      <th>4</th>\n",
       "      <td>Aela59</td>\n",
       "      <td>23</td>\n",
       "      <td>Masculino</td>\n",
       "      <td>63</td>\n",
       "      <td>Stormfury Mace</td>\n",
       "      <td>1.27</td>\n",
       "    </tr>\n",
       "  </tbody>\n",
       "</table>\n",
       "</div>"
      ],
      "text/plain": [
       "          Login  Idade       Sexo  Item ID  \\\n",
       "0     Aelalis34     38  Masculino      165   \n",
       "1        Eolo46     21  Masculino      119   \n",
       "2   Assastnya25     34  Masculino      174   \n",
       "3  Pheusrical25     21  Masculino       92   \n",
       "4        Aela59     23  Masculino       63   \n",
       "\n",
       "                                Nome do Item  Valor  \n",
       "0                Bone Crushing Silver Skewer   3.37  \n",
       "1  Stormbringer, Dark Blade of Ending Misery   2.32  \n",
       "2                            Primitive Blade   2.46  \n",
       "3                               Final Critic   1.36  \n",
       "4                             Stormfury Mace   1.27  "
      ]
     },
     "execution_count": 159,
     "metadata": {},
     "output_type": "execute_result"
    }
   ],
   "source": [
    "# Endereco do arquivo\n",
    "endereco = 'dados_compras.json'\n",
    "\n",
    "dados_compras = pd.read_json(endereco, orient = \"values\")\n",
    "dados_compras.head()#Para ver toda a tabela de valores basta remover o head()"
   ]
  },
  {
   "cell_type": "code",
   "execution_count": 181,
   "metadata": {},
   "outputs": [
    {
     "ename": "NameError",
     "evalue": "name 'Aela59' is not defined",
     "output_type": "error",
     "traceback": [
      "\u001b[1;31m---------------------------------------------------------------------------\u001b[0m",
      "\u001b[1;31mNameError\u001b[0m                                 Traceback (most recent call last)",
      "Cell \u001b[1;32mIn[181], line 2\u001b[0m\n\u001b[0;32m      1\u001b[0m \u001b[38;5;66;03m#Para acessar as posições da variavel\u001b[39;00m\n\u001b[1;32m----> 2\u001b[0m dados_compras[\u001b[38;5;124m'\u001b[39m\u001b[38;5;124mLogin\u001b[39m\u001b[38;5;124m'\u001b[39m][\u001b[43mAela59\u001b[49m]\n",
      "\u001b[1;31mNameError\u001b[0m: name 'Aela59' is not defined"
     ]
    }
   ],
   "source": [
    "#Para acessar as posições da variavel\n",
    "dados_compras['Login'][0]"
   ]
  },
  {
   "cell_type": "markdown",
   "metadata": {},
   "source": [
    "## Contagem de Compradores"
   ]
  },
  {
   "cell_type": "code",
   "execution_count": 144,
   "metadata": {
    "scrolled": true
   },
   "outputs": [
    {
     "data": {
      "text/html": [
       "<div>\n",
       "<style scoped>\n",
       "    .dataframe tbody tr th:only-of-type {\n",
       "        vertical-align: middle;\n",
       "    }\n",
       "\n",
       "    .dataframe tbody tr th {\n",
       "        vertical-align: top;\n",
       "    }\n",
       "\n",
       "    .dataframe thead th {\n",
       "        text-align: right;\n",
       "    }\n",
       "</style>\n",
       "<table border=\"1\" class=\"dataframe\">\n",
       "  <thead>\n",
       "    <tr style=\"text-align: right;\">\n",
       "      <th></th>\n",
       "      <th>Login</th>\n",
       "      <th>Idade</th>\n",
       "      <th>Sexo</th>\n",
       "      <th>Item ID</th>\n",
       "      <th>Nome do Item</th>\n",
       "      <th>Valor</th>\n",
       "    </tr>\n",
       "  </thead>\n",
       "  <tbody>\n",
       "    <tr>\n",
       "      <th>0</th>\n",
       "      <td>Aelalis34</td>\n",
       "      <td>38</td>\n",
       "      <td>Masculino</td>\n",
       "      <td>165</td>\n",
       "      <td>Bone Crushing Silver Skewer</td>\n",
       "      <td>3.37</td>\n",
       "    </tr>\n",
       "    <tr>\n",
       "      <th>1</th>\n",
       "      <td>Eolo46</td>\n",
       "      <td>21</td>\n",
       "      <td>Masculino</td>\n",
       "      <td>119</td>\n",
       "      <td>Stormbringer, Dark Blade of Ending Misery</td>\n",
       "      <td>2.32</td>\n",
       "    </tr>\n",
       "    <tr>\n",
       "      <th>2</th>\n",
       "      <td>Assastnya25</td>\n",
       "      <td>34</td>\n",
       "      <td>Masculino</td>\n",
       "      <td>174</td>\n",
       "      <td>Primitive Blade</td>\n",
       "      <td>2.46</td>\n",
       "    </tr>\n",
       "    <tr>\n",
       "      <th>3</th>\n",
       "      <td>Pheusrical25</td>\n",
       "      <td>21</td>\n",
       "      <td>Masculino</td>\n",
       "      <td>92</td>\n",
       "      <td>Final Critic</td>\n",
       "      <td>1.36</td>\n",
       "    </tr>\n",
       "    <tr>\n",
       "      <th>4</th>\n",
       "      <td>Aela59</td>\n",
       "      <td>23</td>\n",
       "      <td>Masculino</td>\n",
       "      <td>63</td>\n",
       "      <td>Stormfury Mace</td>\n",
       "      <td>1.27</td>\n",
       "    </tr>\n",
       "    <tr>\n",
       "      <th>...</th>\n",
       "      <td>...</td>\n",
       "      <td>...</td>\n",
       "      <td>...</td>\n",
       "      <td>...</td>\n",
       "      <td>...</td>\n",
       "      <td>...</td>\n",
       "    </tr>\n",
       "    <tr>\n",
       "      <th>775</th>\n",
       "      <td>Eural50</td>\n",
       "      <td>22</td>\n",
       "      <td>Masculino</td>\n",
       "      <td>98</td>\n",
       "      <td>Deadline, Voice Of Subtlety</td>\n",
       "      <td>3.62</td>\n",
       "    </tr>\n",
       "    <tr>\n",
       "      <th>776</th>\n",
       "      <td>Lirtossa78</td>\n",
       "      <td>14</td>\n",
       "      <td>Masculino</td>\n",
       "      <td>104</td>\n",
       "      <td>Gladiator's Glaive</td>\n",
       "      <td>1.36</td>\n",
       "    </tr>\n",
       "    <tr>\n",
       "      <th>777</th>\n",
       "      <td>Tillyrin30</td>\n",
       "      <td>20</td>\n",
       "      <td>Masculino</td>\n",
       "      <td>117</td>\n",
       "      <td>Heartstriker, Legacy of the Light</td>\n",
       "      <td>4.15</td>\n",
       "    </tr>\n",
       "    <tr>\n",
       "      <th>778</th>\n",
       "      <td>Quelaton80</td>\n",
       "      <td>20</td>\n",
       "      <td>Masculino</td>\n",
       "      <td>75</td>\n",
       "      <td>Brutality Ivory Warmace</td>\n",
       "      <td>1.72</td>\n",
       "    </tr>\n",
       "    <tr>\n",
       "      <th>779</th>\n",
       "      <td>Alim85</td>\n",
       "      <td>23</td>\n",
       "      <td>Feminino</td>\n",
       "      <td>107</td>\n",
       "      <td>Splitter, Foe Of Subtlety</td>\n",
       "      <td>3.61</td>\n",
       "    </tr>\n",
       "  </tbody>\n",
       "</table>\n",
       "<p>780 rows × 6 columns</p>\n",
       "</div>"
      ],
      "text/plain": [
       "            Login  Idade       Sexo  Item ID  \\\n",
       "0       Aelalis34     38  Masculino      165   \n",
       "1          Eolo46     21  Masculino      119   \n",
       "2     Assastnya25     34  Masculino      174   \n",
       "3    Pheusrical25     21  Masculino       92   \n",
       "4          Aela59     23  Masculino       63   \n",
       "..            ...    ...        ...      ...   \n",
       "775       Eural50     22  Masculino       98   \n",
       "776    Lirtossa78     14  Masculino      104   \n",
       "777    Tillyrin30     20  Masculino      117   \n",
       "778    Quelaton80     20  Masculino       75   \n",
       "779        Alim85     23   Feminino      107   \n",
       "\n",
       "                                  Nome do Item  Valor  \n",
       "0                  Bone Crushing Silver Skewer   3.37  \n",
       "1    Stormbringer, Dark Blade of Ending Misery   2.32  \n",
       "2                              Primitive Blade   2.46  \n",
       "3                                 Final Critic   1.36  \n",
       "4                               Stormfury Mace   1.27  \n",
       "..                                         ...    ...  \n",
       "775                Deadline, Voice Of Subtlety   3.62  \n",
       "776                         Gladiator's Glaive   1.36  \n",
       "777          Heartstriker, Legacy of the Light   4.15  \n",
       "778                    Brutality Ivory Warmace   1.72  \n",
       "779                  Splitter, Foe Of Subtlety   3.61  \n",
       "\n",
       "[780 rows x 6 columns]"
      ]
     },
     "execution_count": 144,
     "metadata": {},
     "output_type": "execute_result"
    }
   ],
   "source": [
    "dados_compras"
   ]
  },
  {
   "cell_type": "code",
   "execution_count": 4,
   "metadata": {},
   "outputs": [],
   "source": [
    "# Número total de compradores "
   ]
  },
  {
   "cell_type": "code",
   "execution_count": 71,
   "metadata": {
    "scrolled": true
   },
   "outputs": [
    {
     "data": {
      "text/plain": [
       "573"
      ]
     },
     "execution_count": 71,
     "metadata": {},
     "output_type": "execute_result"
    }
   ],
   "source": [
    "# Implemente aqui sua solução\n",
    "dados_compras['Login'].nunique()"
   ]
  },
  {
   "cell_type": "markdown",
   "metadata": {},
   "source": [
    "## Análise Geral de Compras"
   ]
  },
  {
   "cell_type": "code",
   "execution_count": 6,
   "metadata": {},
   "outputs": [],
   "source": [
    "# Número de itens exclusivos\n",
    "# Preço médio de compra\n",
    "# Número total de compras\n",
    "# Rendimento total"
   ]
  },
  {
   "cell_type": "code",
   "execution_count": 148,
   "metadata": {},
   "outputs": [
    {
     "name": "stdout",
     "output_type": "stream",
     "text": [
      "O total de itens exclusivos são de 183\n",
      "O preço médio de compra é 2.93\n",
      "O total de compras foi de 4.95\n",
      "O total de itens comprados foi de 152 itens\n",
      "O rendimento total de todas as compras foi de R$:2286.33\n"
     ]
    }
   ],
   "source": [
    "# Implemente aqui sua solução\n",
    "numero_itens = dados_compras['Item ID'].nunique()\n",
    "preco_medio = dados_compras['Valor'].mean()\n",
    "total_de_compras = dados_compras['Valor'].max()\n",
    "itens_comprados = dados_compras['Valor'].nunique()\n",
    "rendimento = dados_compras['Valor'].sum()\n",
    "print('O total de itens exclusivos são de {}' .format(numero_itens))\n",
    "print('O preço médio de compra é {:.2f}' .format(preco_medio))\n",
    "print('O total de compras foi de {:.2f}'.format(total_de_compras))\n",
    "print('O total de itens comprados foi de {} itens'.format(itens_comprados))\n",
    "print('O rendimento total de todas as compras foi de R$:{:.2f}'.format(rendimento))"
   ]
  },
  {
   "cell_type": "markdown",
   "metadata": {},
   "source": [
    "## Informações Demográficas Por Gênero"
   ]
  },
  {
   "cell_type": "code",
   "execution_count": 8,
   "metadata": {},
   "outputs": [],
   "source": [
    "# Porcentagem e contagem de compradores masculinos\n",
    "# Porcentagem e contagem de compradores do sexo feminino\n",
    "# Porcentagem e contagem de outros / não divulgados"
   ]
  },
  {
   "cell_type": "code",
   "execution_count": 152,
   "metadata": {},
   "outputs": [
    {
     "name": "stdout",
     "output_type": "stream",
     "text": [
      "Porcentagem de Masculino: 81.15%\n",
      "Porcentagem de Feminino: 17.44%\n",
      "Porcentagem de Outros / Não Divulgado: 1.41%\n",
      "Sexo\n",
      "Masculino                633\n",
      "Feminino                 136\n",
      "Outro / Não Divulgado     11\n",
      "Name: count, dtype: int64\n"
     ]
    }
   ],
   "source": [
    "total_por_sexo = dados_compras['Sexo'].value_counts()\n",
    "M = 633\n",
    "F = 136\n",
    "O = 11\n",
    "total = M + F + O\n",
    "porcentagem_masculino = (M / total) * 100\n",
    "porcentagem_feminino = (F / total) * 100\n",
    "porcentagem_outros = (O / total) * 100\n",
    "print(f\"Porcentagem de Masculino: {porcentagem_masculino:.2f}%\")\n",
    "print(f\"Porcentagem de Feminino: {porcentagem_feminino:.2f}%\")\n",
    "print(f\"Porcentagem de Outros / Não Divulgado: {porcentagem_outros:.2f}%\")\n",
    "print (total_por_sexo)"
   ]
  },
  {
   "cell_type": "markdown",
   "metadata": {},
   "source": [
    "## Análise de Compras Por Gênero"
   ]
  },
  {
   "cell_type": "code",
   "execution_count": 10,
   "metadata": {},
   "outputs": [],
   "source": [
    "# Número de compras\n",
    "# Preço médio de compra\n",
    "# Valor Total de Compra\n",
    "# Compras por faixa etária"
   ]
  },
  {
   "cell_type": "code",
   "execution_count": 154,
   "metadata": {},
   "outputs": [
    {
     "name": "stdout",
     "output_type": "stream",
     "text": [
      "Número de compras: 780\n",
      "Preço médio de compra: R$2.93\n",
      "Valor Total de Compra: R$4.95\n",
      "Idade\n",
      "20    98\n",
      "24    70\n",
      "22    68\n",
      "25    67\n",
      "23    57\n",
      "15    47\n",
      "21    43\n",
      "18    24\n",
      "16    23\n",
      "19    22\n",
      "29    21\n",
      "27    19\n",
      "7     19\n",
      "30    18\n",
      "17    17\n",
      "31    16\n",
      "40    14\n",
      "26    13\n",
      "35    12\n",
      "33    11\n",
      "13    11\n",
      "32    11\n",
      "38     9\n",
      "37     9\n",
      "11     9\n",
      "34     8\n",
      "36     7\n",
      "14     6\n",
      "9      6\n",
      "28     5\n",
      "12     5\n",
      "39     5\n",
      "10     4\n",
      "8      3\n",
      "45     1\n",
      "42     1\n",
      "43     1\n",
      "Name: count, dtype: int64\n"
     ]
    }
   ],
   "source": [
    "# Implemente aqui sua solução\n",
    "numero_compras = dados_compras['Nome do Item'].shape[0]\n",
    "preço_medio = dados_compras['Valor'].mean()\n",
    "valor_total = dados_compras['Valor'].max()\n",
    "compras_faixa = dados_compras['Idade'].value_counts()\n",
    "print('Número de compras: {}'.format(numero_compras))\n",
    "print('Preço médio de compra: R${:.2f}'.format(preço_medio))\n",
    "print('Valor Total de Compra: R${:.2f}'.format(valor_total))\n",
    "print (compras_faixa)"
   ]
  },
  {
   "cell_type": "markdown",
   "metadata": {},
   "source": [
    "## Identifique os 5 principais compradores pelo valor total de compra e, em seguida, liste:"
   ]
  },
  {
   "cell_type": "code",
   "execution_count": 12,
   "metadata": {},
   "outputs": [],
   "source": [
    "# Login\n",
    "# Número de compras\n",
    "# Preço médio de compra\n",
    "# Valor Total de Compra\n",
    "# Itens mais populares"
   ]
  },
  {
   "cell_type": "code",
   "execution_count": 177,
   "metadata": {},
   "outputs": [
    {
     "name": "stdout",
     "output_type": "stream",
     "text": [
      "Top 5 principais compradores pelo valor total de compra:\n",
      "           Login  Número de compras  Preço médio de compra  \\\n",
      "538  Undirrala66                  5               3.412000   \n",
      "428     Saedue76                  4               3.390000   \n",
      "354  Mindimnya67                  4               3.185000   \n",
      "181   Haellysu29                  3               4.243333   \n",
      "120       Eoda93                  3               3.860000   \n",
      "\n",
      "     Valor Total de Compra  \n",
      "538                  17.06  \n",
      "428                  13.56  \n",
      "354                  12.74  \n",
      "181                  12.73  \n",
      "120                  11.58  \n"
     ]
    }
   ],
   "source": [
    "# Implemente aqui sua solução\n",
    "valor_total_por_comprador = dados_compras.groupby('Login').agg({'Valor': ['size', 'mean', 'sum']}).reset_index()\n",
    "valor_total_por_comprador.columns = ['Login', 'Número de compras', 'Preço médio de compra', 'Valor Total de Compra']\n",
    "top_5_compradores = valor_total_por_comprador.sort_values(by='Valor Total de Compra', ascending=False).head(5)\n",
    "print(\"Top 5 principais compradores pelo valor total de compra:\")\n",
    "print(top_5_compradores)"
   ]
  },
  {
   "cell_type": "markdown",
   "metadata": {},
   "source": [
    "## Identifique os 5 itens mais populares por contagem de compras e, em seguida, liste:"
   ]
  },
  {
   "cell_type": "code",
   "execution_count": 182,
   "metadata": {},
   "outputs": [
    {
     "name": "stdout",
     "output_type": "stream",
     "text": [
      "Top 5 principais compradores pelo valor total de compra:\n",
      "           Login  Número de compras  Preço médio de compra  \\\n",
      "538  Undirrala66                  5               3.412000   \n",
      "428     Saedue76                  4               3.390000   \n",
      "354  Mindimnya67                  4               3.185000   \n",
      "181   Haellysu29                  3               4.243333   \n",
      "120       Eoda93                  3               3.860000   \n",
      "\n",
      "     Valor Total de Compra  \n",
      "538                  17.06  \n",
      "428                  13.56  \n",
      "354                  12.74  \n",
      "181                  12.73  \n",
      "120                  11.58  \n"
     ]
    }
   ],
   "source": [
    "# ID do item\n",
    "# Nome do item\n",
    "# Número de compras\n",
    "# Preço do item\n",
    "# Valor Total de Compra\n",
    "valor_total_por_comprador = dados_compras.groupby('Login').agg({'Valor': ['size', 'mean', 'sum']}).reset_index()\n",
    "valor_total_por_comprador.columns = ['Login', 'Número de compras', 'Preço médio de compra', 'Valor Total de Compra']\n",
    "top_5_compradores = valor_total_por_comprador.sort_values(by='Valor Total de Compra', ascending=False).head(5)\n",
    "print(\"Top 5 principais compradores pelo valor total de compra:\")\n",
    "print(top_5_compradores)"
   ]
  },
  {
   "cell_type": "code",
   "execution_count": 174,
   "metadata": {},
   "outputs": [
    {
     "name": "stdout",
     "output_type": "stream",
     "text": [
      "Top 5 itens mais populares por contagem de compras:\n",
      "    Item ID                          Nome do Item  Numero de Compras  \\\n",
      "39       39  Betrayal, Whisper of Grieving Widows                 11   \n",
      "84       84                            Arcane Gem                 11   \n",
      "34       34                       Retribution Axe                  9   \n",
      "31       31                             Trickster                  9   \n",
      "13       13                              Serenity                  9   \n",
      "\n",
      "    Preço do Item  Valor Total Compra  \n",
      "39           2.35               25.85  \n",
      "84           2.23               24.53  \n",
      "34           4.14               37.26  \n",
      "31           2.07               18.63  \n",
      "13           1.49               13.41  \n"
     ]
    }
   ],
   "source": [
    "metricas_itens = dados_compras.groupby(['Item ID', 'Nome do Item']).agg({'Item ID': 'size','Valor': ['first', 'sum']})\n",
    "metricas_itens.columns = ['Numero de Compras', 'Preço do Item', 'Valor Total Compra']\n",
    "metricas_itens = metricas_itens.reset_index()\n",
    "top_5_itens = metricas_itens.sort_values(by='Numero de Compras', ascending=False).head(5)\n",
    "print(\"Top 5 itens mais populares por contagem de compras:\")\n",
    "print(top_5_itens[['Item ID', 'Nome do Item', 'Numero de Compras', 'Preço do Item', 'Valor Total Compra']])"
   ]
  },
  {
   "cell_type": "markdown",
   "metadata": {},
   "source": [
    "## Identifique os 5 itens mais lucrativos pelo valor total de compra e, em seguida, liste:"
   ]
  },
  {
   "cell_type": "code",
   "execution_count": 175,
   "metadata": {},
   "outputs": [
    {
     "name": "stdout",
     "output_type": "stream",
     "text": [
      "Top 5 itens mais lucrativos pelo valor total de compra:\n",
      "     Item ID                Nome do Item  Número de Compras  Preço do Item  \\\n",
      "34        34             Retribution Axe                  9           4.14   \n",
      "115      115  Spectral Diamond Doomblade                  7           4.25   \n",
      "32        32                     Orenmir                  6           4.95   \n",
      "103      103              Singed Scalpel                  6           4.87   \n",
      "107      107   Splitter, Foe Of Subtlety                  8           3.61   \n",
      "\n",
      "     Valor Total de Compra  \n",
      "34                   37.26  \n",
      "115                  29.75  \n",
      "32                   29.70  \n",
      "103                  29.22  \n",
      "107                  28.88  \n"
     ]
    }
   ],
   "source": [
    "# ID do item\n",
    "# Nome do item\n",
    "# Número de compras\n",
    "# Preço do item\n",
    "# Valor Total de Compra\n",
    "\n",
    "valor_total_por_item = dados_compras.groupby(['Item ID', 'Nome do Item']).agg({"    'Item ID': 'size',"    'Valor': ['mean', 'sum']"}).reset_index()\n",
    "\n",
    "valor_total_por_item.columns = ['Item ID', 'Nome do Item', 'Número de Compras', 'Preço do Item', 'Valor Total de Compra']\n",
    "\n",
    "top_5_itens_lucrativos = valor_total_por_item.sort_values(by='Valor Total de Compra', ascending=False).head(5)\n",
    "\n",
    "print(\"Top 5 itens mais lucrativos pelo valor total de compra:\")\n",
    "print(top_5_itens_lucrativos[['Item ID', 'Nome do Item', 'Número de Compras', 'Preço do Item', 'Valor Total de Compra']])"
   ]
  }
 ],
 "metadata": {
  "kernelspec": {
   "display_name": "Python 3 (ipykernel)",
   "language": "python",
   "name": "python3"
  },
  "language_info": {
   "codemirror_mode": {
    "name": "ipython",
    "version": 3
   },
   "file_extension": ".py",
   "mimetype": "text/x-python",
   "name": "python",
   "nbconvert_exporter": "python",
   "pygments_lexer": "ipython3",
   "version": "3.12.4"
  }
 },
 "nbformat": 4,
 "nbformat_minor": 4
}
