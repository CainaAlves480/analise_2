{
 "cells": [
  {
   "cell_type": "code",
   "execution_count": null,
   "metadata": {},
   "outputs": [],
   "source": [
    "## Tarefa: Analisar o Comportamento de Compra de Consumidores."
   ]
  },
  {
   "cell_type": "markdown",
   "metadata": {},
   "source": [
    "Você recebeu a tarefa de analisar os dados de compras de um web site! Os dados estão no formato JSON.\n",
    "\n",
    "No site, cada usuário efetua login usando sua conta pessoal e pode adquirir produtos à medida que navega pela lista de produtos oferecidos. Cada produto possui um valor de venda. Dados de idade e sexo de cada usuário foram coletados e estão fornecidos no arquivo JSON.\n",
    "\n",
    "Seu trabalho é entregar uma análise de comportamento de compra dos consumidores. Esse é um tipo de atividade comum realizado por Cientistas de Dados e o resultado deste trabalho pode ser usado, por exemplo, para alimentar um modelo de Machine Learning e fazer previsões sobre comportamentos futuros.\n",
    "\n",
    "Mas nesta missão você vai analisar o comportamento de compra dos consumidores na linguagem Python e seu relatório final deve incluir cada um dos seguintes itens:\n",
    "\n",
    "**Contagem de Compradores**\n",
    "\n",
    "* Número total de compradores\n",
    "\n",
    "\n",
    "**Análise Geral de Compras**\n",
    "\n",
    "* Número de itens exclusivos\n",
    "* Preço médio de compra\n",
    "* Número total de compras\n",
    "* Rendimento total\n",
    "\n",
    "\n",
    "**Informações Demográficas Por Gênero**\n",
    "\n",
    "* Porcentagem e contagem de compradores masculinos\n",
    "* Porcentagem e contagem de compradores do sexo feminino\n",
    "* Porcentagem e contagem de outros / não divulgados\n",
    "\n",
    "\n",
    "**Análise de Compras Por Gênero**\n",
    "\n",
    "* Número de compras\n",
    "* Preço médio de compra\n",
    "* Valor Total de Compra\n",
    "* Compras for faixa etária\n",
    "\n",
    "\n",
    "**Identifique os 5 principais compradores pelo valor total de compra e, em seguida, liste:**\n",
    "\n",
    "* Login\n",
    "* Número de compras\n",
    "* Preço médio de compra\n",
    "* Valor Total de Compra\n",
    "* Itens mais populares\n",
    "\n",
    "\n",
    "**Identifique os 5 itens mais populares por contagem de compras e, em seguida, liste:**\n",
    "\n",
    "* ID do item\n",
    "* Nome do item\n",
    "* Número de compras\n",
    "* Preço do item\n",
    "* Valor Total de Compra\n",
    "\n",
    "\n",
    "**Identifique os 5 itens mais lucrativos pelo valor total de compra e, em seguida, liste:**\n",
    "\n",
    "* ID do item\n",
    "* Nome do item\n",
    "* Número de compras\n",
    "* Preço do item\n",
    "* Valor Total de Compra\n",
    "\n",
    "\n",
    "**Como considerações finais:**\n",
    "\n",
    "* Seu script deve funcionar para o conjunto de dados fornecido.\n",
    "* Eu sugiro o uso dos pacotes numpy e pandas, porém serão aceitos quaisquer outros pacotes utilizados.\n",
    "* A biblioteca pandas possui funções implementadas que permitem a realização de quase todas as tarefas desse exercício sem necessidade de utilizar comandos de repetição (for ou while). Portanto procurem as funções desse pacote que melhor auxiliem na resolução dessa atividade.  \n"
   ]
  },
  {
   "cell_type": "code",
   "execution_count": 7,
   "metadata": {},
   "outputs": [],
   "source": [
    "# Imports\n",
    "import pandas as pd\n",
    "import numpy as np"
   ]
  },
  {
   "cell_type": "code",
   "execution_count": 5,
   "metadata": {},
   "outputs": [
    {
     "data": {
      "text/html": [
       "<div>\n",
       "<style scoped>\n",
       "    .dataframe tbody tr th:only-of-type {\n",
       "        vertical-align: middle;\n",
       "    }\n",
       "\n",
       "    .dataframe tbody tr th {\n",
       "        vertical-align: top;\n",
       "    }\n",
       "\n",
       "    .dataframe thead th {\n",
       "        text-align: right;\n",
       "    }\n",
       "</style>\n",
       "<table border=\"1\" class=\"dataframe\">\n",
       "  <thead>\n",
       "    <tr style=\"text-align: right;\">\n",
       "      <th></th>\n",
       "      <th>Login</th>\n",
       "      <th>Idade</th>\n",
       "      <th>Sexo</th>\n",
       "      <th>Item ID</th>\n",
       "      <th>Nome do Item</th>\n",
       "      <th>Valor</th>\n",
       "    </tr>\n",
       "  </thead>\n",
       "  <tbody>\n",
       "    <tr>\n",
       "      <th>0</th>\n",
       "      <td>Aelalis34</td>\n",
       "      <td>38</td>\n",
       "      <td>Masculino</td>\n",
       "      <td>165</td>\n",
       "      <td>Bone Crushing Silver Skewer</td>\n",
       "      <td>3.37</td>\n",
       "    </tr>\n",
       "    <tr>\n",
       "      <th>1</th>\n",
       "      <td>Eolo46</td>\n",
       "      <td>21</td>\n",
       "      <td>Masculino</td>\n",
       "      <td>119</td>\n",
       "      <td>Stormbringer, Dark Blade of Ending Misery</td>\n",
       "      <td>2.32</td>\n",
       "    </tr>\n",
       "    <tr>\n",
       "      <th>2</th>\n",
       "      <td>Assastnya25</td>\n",
       "      <td>34</td>\n",
       "      <td>Masculino</td>\n",
       "      <td>174</td>\n",
       "      <td>Primitive Blade</td>\n",
       "      <td>2.46</td>\n",
       "    </tr>\n",
       "    <tr>\n",
       "      <th>3</th>\n",
       "      <td>Pheusrical25</td>\n",
       "      <td>21</td>\n",
       "      <td>Masculino</td>\n",
       "      <td>92</td>\n",
       "      <td>Final Critic</td>\n",
       "      <td>1.36</td>\n",
       "    </tr>\n",
       "    <tr>\n",
       "      <th>4</th>\n",
       "      <td>Aela59</td>\n",
       "      <td>23</td>\n",
       "      <td>Masculino</td>\n",
       "      <td>63</td>\n",
       "      <td>Stormfury Mace</td>\n",
       "      <td>1.27</td>\n",
       "    </tr>\n",
       "  </tbody>\n",
       "</table>\n",
       "</div>"
      ],
      "text/plain": [
       "          Login  Idade       Sexo  Item ID  \\\n",
       "0     Aelalis34     38  Masculino      165   \n",
       "1        Eolo46     21  Masculino      119   \n",
       "2   Assastnya25     34  Masculino      174   \n",
       "3  Pheusrical25     21  Masculino       92   \n",
       "4        Aela59     23  Masculino       63   \n",
       "\n",
       "                                Nome do Item  Valor  \n",
       "0                Bone Crushing Silver Skewer   3.37  \n",
       "1  Stormbringer, Dark Blade of Ending Misery   2.32  \n",
       "2                            Primitive Blade   2.46  \n",
       "3                               Final Critic   1.36  \n",
       "4                             Stormfury Mace   1.27  "
      ]
     },
     "execution_count": 5,
     "metadata": {},
     "output_type": "execute_result"
    }
   ],
   "source": [
    "# Endereco do arquivo\n",
    "endereco = 'dados_compras.json'\n",
    "\n",
    "dados_compras = pd.read_json(endereco, orient = \"values\")\n",
    "dados_compras.head()#Para ver toda a tabela de valores basta remover o head()"
   ]
  },
  {
   "cell_type": "code",
   "execution_count": 6,
   "metadata": {},
   "outputs": [
    {
     "data": {
      "text/plain": [
       "'Aelalis34'"
      ]
     },
     "execution_count": 6,
     "metadata": {},
     "output_type": "execute_result"
    }
   ],
   "source": [
    "#Para acessar as posições da variavel\n",
    "dados_compras['Login'][0]"
   ]
  },
  {
   "cell_type": "markdown",
   "metadata": {},
   "source": [
    "## Contagem de Compradores"
   ]
  },
  {
   "cell_type": "code",
   "execution_count": 144,
   "metadata": {
    "scrolled": true
   },
   "outputs": [
    {
     "data": {
      "text/html": [
       "<div>\n",
       "<style scoped>\n",
       "    .dataframe tbody tr th:only-of-type {\n",
       "        vertical-align: middle;\n",
       "    }\n",
       "\n",
       "    .dataframe tbody tr th {\n",
       "        vertical-align: top;\n",
       "    }\n",
       "\n",
       "    .dataframe thead th {\n",
       "        text-align: right;\n",
       "    }\n",
       "</style>\n",
       "<table border=\"1\" class=\"dataframe\">\n",
       "  <thead>\n",
       "    <tr style=\"text-align: right;\">\n",
       "      <th></th>\n",
       "      <th>Login</th>\n",
       "      <th>Idade</th>\n",
       "      <th>Sexo</th>\n",
       "      <th>Item ID</th>\n",
       "      <th>Nome do Item</th>\n",
       "      <th>Valor</th>\n",
       "    </tr>\n",
       "  </thead>\n",
       "  <tbody>\n",
       "    <tr>\n",
       "      <th>0</th>\n",
       "      <td>Aelalis34</td>\n",
       "      <td>38</td>\n",
       "      <td>Masculino</td>\n",
       "      <td>165</td>\n",
       "      <td>Bone Crushing Silver Skewer</td>\n",
       "      <td>3.37</td>\n",
       "    </tr>\n",
       "    <tr>\n",
       "      <th>1</th>\n",
       "      <td>Eolo46</td>\n",
       "      <td>21</td>\n",
       "      <td>Masculino</td>\n",
       "      <td>119</td>\n",
       "      <td>Stormbringer, Dark Blade of Ending Misery</td>\n",
       "      <td>2.32</td>\n",
       "    </tr>\n",
       "    <tr>\n",
       "      <th>2</th>\n",
       "      <td>Assastnya25</td>\n",
       "      <td>34</td>\n",
       "      <td>Masculino</td>\n",
       "      <td>174</td>\n",
       "      <td>Primitive Blade</td>\n",
       "      <td>2.46</td>\n",
       "    </tr>\n",
       "    <tr>\n",
       "      <th>3</th>\n",
       "      <td>Pheusrical25</td>\n",
       "      <td>21</td>\n",
       "      <td>Masculino</td>\n",
       "      <td>92</td>\n",
       "      <td>Final Critic</td>\n",
       "      <td>1.36</td>\n",
       "    </tr>\n",
       "    <tr>\n",
       "      <th>4</th>\n",
       "      <td>Aela59</td>\n",
       "      <td>23</td>\n",
       "      <td>Masculino</td>\n",
       "      <td>63</td>\n",
       "      <td>Stormfury Mace</td>\n",
       "      <td>1.27</td>\n",
       "    </tr>\n",
       "    <tr>\n",
       "      <th>...</th>\n",
       "      <td>...</td>\n",
       "      <td>...</td>\n",
       "      <td>...</td>\n",
       "      <td>...</td>\n",
       "      <td>...</td>\n",
       "      <td>...</td>\n",
       "    </tr>\n",
       "    <tr>\n",
       "      <th>775</th>\n",
       "      <td>Eural50</td>\n",
       "      <td>22</td>\n",
       "      <td>Masculino</td>\n",
       "      <td>98</td>\n",
       "      <td>Deadline, Voice Of Subtlety</td>\n",
       "      <td>3.62</td>\n",
       "    </tr>\n",
       "    <tr>\n",
       "      <th>776</th>\n",
       "      <td>Lirtossa78</td>\n",
       "      <td>14</td>\n",
       "      <td>Masculino</td>\n",
       "      <td>104</td>\n",
       "      <td>Gladiator's Glaive</td>\n",
       "      <td>1.36</td>\n",
       "    </tr>\n",
       "    <tr>\n",
       "      <th>777</th>\n",
       "      <td>Tillyrin30</td>\n",
       "      <td>20</td>\n",
       "      <td>Masculino</td>\n",
       "      <td>117</td>\n",
       "      <td>Heartstriker, Legacy of the Light</td>\n",
       "      <td>4.15</td>\n",
       "    </tr>\n",
       "    <tr>\n",
       "      <th>778</th>\n",
       "      <td>Quelaton80</td>\n",
       "      <td>20</td>\n",
       "      <td>Masculino</td>\n",
       "      <td>75</td>\n",
       "      <td>Brutality Ivory Warmace</td>\n",
       "      <td>1.72</td>\n",
       "    </tr>\n",
       "    <tr>\n",
       "      <th>779</th>\n",
       "      <td>Alim85</td>\n",
       "      <td>23</td>\n",
       "      <td>Feminino</td>\n",
       "      <td>107</td>\n",
       "      <td>Splitter, Foe Of Subtlety</td>\n",
       "      <td>3.61</td>\n",
       "    </tr>\n",
       "  </tbody>\n",
       "</table>\n",
       "<p>780 rows × 6 columns</p>\n",
       "</div>"
      ],
      "text/plain": [
       "            Login  Idade       Sexo  Item ID  \\\n",
       "0       Aelalis34     38  Masculino      165   \n",
       "1          Eolo46     21  Masculino      119   \n",
       "2     Assastnya25     34  Masculino      174   \n",
       "3    Pheusrical25     21  Masculino       92   \n",
       "4          Aela59     23  Masculino       63   \n",
       "..            ...    ...        ...      ...   \n",
       "775       Eural50     22  Masculino       98   \n",
       "776    Lirtossa78     14  Masculino      104   \n",
       "777    Tillyrin30     20  Masculino      117   \n",
       "778    Quelaton80     20  Masculino       75   \n",
       "779        Alim85     23   Feminino      107   \n",
       "\n",
       "                                  Nome do Item  Valor  \n",
       "0                  Bone Crushing Silver Skewer   3.37  \n",
       "1    Stormbringer, Dark Blade of Ending Misery   2.32  \n",
       "2                              Primitive Blade   2.46  \n",
       "3                                 Final Critic   1.36  \n",
       "4                               Stormfury Mace   1.27  \n",
       "..                                         ...    ...  \n",
       "775                Deadline, Voice Of Subtlety   3.62  \n",
       "776                         Gladiator's Glaive   1.36  \n",
       "777          Heartstriker, Legacy of the Light   4.15  \n",
       "778                    Brutality Ivory Warmace   1.72  \n",
       "779                  Splitter, Foe Of Subtlety   3.61  \n",
       "\n",
       "[780 rows x 6 columns]"
      ]
     },
     "execution_count": 144,
     "metadata": {},
     "output_type": "execute_result"
    }
   ],
   "source": [
    "dados_compras"
   ]
  },
  {
   "cell_type": "code",
   "execution_count": 4,
   "metadata": {},
   "outputs": [],
   "source": [
    "# Número total de compradores "
   ]
  },
  {
   "cell_type": "code",
   "execution_count": 14,
   "metadata": {
    "scrolled": true
   },
   "outputs": [
    {
     "data": {
      "text/plain": [
       "573"
      ]
     },
     "execution_count": 14,
     "metadata": {},
     "output_type": "execute_result"
    }
   ],
   "source": [
    "# Implemente aqui sua solução\n",
    "dados_compras['Login'].nunique()"
   ]
  },
  {
   "cell_type": "markdown",
   "metadata": {},
   "source": [
    "## Análise Geral de Compras"
   ]
  },
  {
   "cell_type": "code",
   "execution_count": 6,
   "metadata": {},
   "outputs": [],
   "source": [
    "# Número de itens exclusivos\n",
    "# Preço médio de compra\n",
    "# Número total de compras\n",
    "# Rendimento total"
   ]
  },
  {
   "cell_type": "code",
   "execution_count": 8,
   "metadata": {},
   "outputs": [
    {
     "name": "stdout",
     "output_type": "stream",
     "text": [
      "O total de itens exclusivos são de 183\n",
      "O preço médio de compra é 2.93\n",
      "O total de compras foi de 4.95\n",
      "O total de itens comprados foi de 152 itens\n",
      "O rendimento total de todas as compras foi de R$:2286.33\n"
     ]
    }
   ],
   "source": [
    "# Implemente aqui sua solução\n",
    "numero_itens = dados_compras['Item ID'].nunique()\n",
    "preco_medio = dados_compras['Valor'].mean()\n",
    "total_de_compras = dados_compras['Valor'].max()\n",
    "itens_comprados = dados_compras['Valor'].nunique()\n",
    "rendimento = dados_compras['Valor'].sum()\n",
    "print('O total de itens exclusivos são de {}' .format(numero_itens))\n",
    "print('O preço médio de compra é {:.2f}' .format(preco_medio))\n",
    "print('O total de compras foi de {:.2f}'.format(total_de_compras))\n",
    "print('O total de itens comprados foi de {} itens'.format(itens_comprados))\n",
    "print('O rendimento total de todas as compras foi de R$:{:.2f}'.format(rendimento))"
   ]
  },
  {
   "cell_type": "markdown",
   "metadata": {},
   "source": [
    "## Informações Demográficas Por Gênero"
   ]
  },
  {
   "cell_type": "code",
   "execution_count": 8,
   "metadata": {},
   "outputs": [],
   "source": [
    "# Porcentagem e contagem de compradores masculinos\n",
    "# Porcentagem e contagem de compradores do sexo feminino\n",
    "# Porcentagem e contagem de outros / não divulgados"
   ]
  },
  {
   "cell_type": "code",
   "execution_count": 29,
   "metadata": {},
   "outputs": [
    {
     "name": "stdout",
     "output_type": "stream",
     "text": [
      "Informações Por Gênero:\n",
      "                       Contagem Porcentagem\n",
      "Sexo                                       \n",
      "Masculino                   633      81.15%\n",
      "Feminino                    136      17.44%\n",
      "Outro / Não Divulgado        11       1.41%\n"
     ]
    }
   ],
   "source": [
    "contagem_por_genero = dados_compras['Sexo'].value_counts()\n",
    "porcentagem_por_genero = dados_compras['Sexo'].value_counts(normalize=True) * 100\n",
    "\n",
    "info_generos = pd.DataFrame({\n",
    "    'Contagem': contagem_por_genero,\n",
    "    'Porcentagem': porcentagem_por_genero\n",
    "})\n",
    "\n",
    "info_generos['Porcentagem'] = info_generos['Porcentagem'].map('{:.2f}%'.format)\n",
    "\n",
    "print(\"Informações Por Gênero:\")\n",
    "print(info_generos)"
   ]
  },
  {
   "cell_type": "markdown",
   "metadata": {},
   "source": [
    "## Análise de Compras Por Gênero"
   ]
  },
  {
   "cell_type": "code",
   "execution_count": 10,
   "metadata": {},
   "outputs": [],
   "source": [
    "# Número de compras\n",
    "# Preço médio de compra\n",
    "# Valor Total de Compra\n",
    "# Compras por faixa etária"
   ]
  },
  {
   "cell_type": "code",
   "execution_count": 46,
   "metadata": {},
   "outputs": [
    {
     "name": "stdout",
     "output_type": "stream",
     "text": [
      "Número de compras: 780\n",
      "Preço médio de compra: 2.93\n",
      "Valor Total de Compra: 2286.33\n",
      "\n",
      "Compras por faixa etária:\n",
      "Idade\n",
      "<18      174\n",
      "18-25    425\n",
      "26-35    134\n",
      "36-50     47\n",
      "50+        0\n",
      "Name: count, dtype: int64\n"
     ]
    }
   ],
   "source": [
    "numero_de_compras = dados_compras.shape[0]\n",
    "preco_medio_compra = dados_compras['Valor'].mean()\n",
    "valor_total_compra = dados_compras['Valor'].sum()\n",
    "faixas_etarias = pd.cut(dados_compras['Idade'], bins=[0, 18, 25, 35, 50, float('inf')], labels=['<18', '18-25', '26-35', '36-50', '50+'])\n",
    "compras_por_faixa_etaria = faixas_etarias.value_counts().sort_index()\n",
    "\n",
    "print(\"Número de compras:\", numero_de_compras)\n",
    "print(\"Preço médio de compra: {:.2f}\" .format(preco_medio_compra))\n",
    "print(\"Valor Total de Compra:\", valor_total_compra)\n",
    "print(\"\\nCompras por faixa etária:\")\n",
    "print(compras_por_faixa_etaria)"
   ]
  },
  {
   "cell_type": "markdown",
   "metadata": {},
   "source": [
    "## Identifique os 5 principais compradores pelo valor total de compra e, em seguida, liste:"
   ]
  },
  {
   "cell_type": "code",
   "execution_count": 12,
   "metadata": {},
   "outputs": [],
   "source": [
    "# Login\n",
    "# Número de compras\n",
    "# Preço médio de compra\n",
    "# Valor Total de Compra\n",
    "# Itens mais populares"
   ]
  },
  {
   "cell_type": "code",
   "execution_count": 35,
   "metadata": {},
   "outputs": [
    {
     "name": "stdout",
     "output_type": "stream",
     "text": [
      "             Número de compras  Preço médio de compra  Valor Total de Compra  \\\n",
      "Login                                                                          \n",
      "Undirrala66                  5               3.412000                  17.06   \n",
      "Saedue76                     4               3.390000                  13.56   \n",
      "Mindimnya67                  4               3.185000                  12.74   \n",
      "Haellysu29                   3               4.243333                  12.73   \n",
      "Eoda93                       3               3.860000                  11.58   \n",
      "\n",
      "                    Itens mais populares  \n",
      "Login                                     \n",
      "Undirrala66       Blood Infused Guardian  \n",
      "Saedue76                     Ritual Mace  \n",
      "Mindimnya67                       Devine  \n",
      "Haellysu29   Blood-Forged Skeletal Spine  \n",
      "Eoda93          Haunted Bronzed Bludgeon  \n"
     ]
    }
   ],
   "source": [
    "agrupado = dados_compras.groupby('Login')\n",
    "\n",
    "metricas = pd.DataFrame({\n",
    "    'Número de compras': agrupado.size(),                         \n",
    "    'Preço médio de compra': agrupado['Valor'].mean(),           \n",
    "    'Valor Total de Compra': agrupado['Valor'].sum(),             \n",
    "    'Itens mais populares': agrupado['Nome do Item'].agg(lambda col: col.mode()[0])  \n",
    "})\n",
    "\n",
    "metricas = metricas.sort_values(by='Valor Total de Compra', ascending=False)\n",
    "print(metricas.head(5))"
   ]
  },
  {
   "cell_type": "markdown",
   "metadata": {},
   "source": [
    "## Identifique os 5 itens mais populares por contagem de compras e, em seguida, liste:"
   ]
  },
  {
   "cell_type": "code",
   "execution_count": 47,
   "metadata": {},
   "outputs": [],
   "source": [
    "# ID do item\n",
    "# Nome do item\n",
    "# Número de compras\n",
    "# Preço do item\n",
    "# Valor Total de Compra\n"
   ]
  },
  {
   "cell_type": "code",
   "execution_count": 54,
   "metadata": {},
   "outputs": [
    {
     "name": "stdout",
     "output_type": "stream",
     "text": [
      "Top 5 itens mais populares por contagem de compras:\n",
      "    Item ID                          Nome do Item  Numero de Compras  \\\n",
      "39       39  Betrayal, Whisper of Grieving Widows                 11   \n",
      "84       84                            Arcane Gem                 11   \n",
      "34       34                       Retribution Axe                  9   \n",
      "31       31                             Trickster                  9   \n",
      "13       13                              Serenity                  9   \n",
      "\n",
      "    Preço do Item  Valor Total Compra  \n",
      "39           2.35               25.85  \n",
      "84           2.23               24.53  \n",
      "34           4.14               37.26  \n",
      "31           2.07               18.63  \n",
      "13           1.49               13.41  \n"
     ]
    }
   ],
   "source": [
    "metricas_itens = dados_compras.groupby(['Item ID', 'Nome do Item']).agg({'Item ID': 'size','Valor': ['first', 'sum']})\n",
    "metricas_itens.columns = ['Numero de Compras', 'Preço do Item', 'Valor Total Compra']\n",
    "metricas_itens = metricas_itens.reset_index()\n",
    "top_5_itens = metricas_itens.sort_values(by='Numero de Compras', ascending=False).head(5)\n",
    "print(\"Top 5 itens mais populares por contagem de compras:\")\n",
    "print(top_5_itens[['Item ID', 'Nome do Item', 'Numero de Compras', 'Preço do Item', 'Valor Total Compra']])"
   ]
  },
  {
   "cell_type": "markdown",
   "metadata": {},
   "source": [
    "## Identifique os 5 itens mais lucrativos pelo valor total de compra e, em seguida, liste:"
   ]
  },
  {
   "cell_type": "code",
   "execution_count": 55,
   "metadata": {},
   "outputs": [],
   "source": [
    "# ID do item\n",
    "# Nome do item\n",
    "# Número de compras\n",
    "# Preço do item\n",
    "# Valor Total de Compra"
   ]
  },
  {
   "cell_type": "code",
   "execution_count": 56,
   "metadata": {},
   "outputs": [
    {
     "name": "stdout",
     "output_type": "stream",
     "text": [
      "Top 5 itens mais lucrativos pelo valor total de compra:\n",
      "     Item ID                Nome do Item  Número de compras  Preço do item  \\\n",
      "34        34             Retribution Axe                  9           4.14   \n",
      "115      115  Spectral Diamond Doomblade                  7           4.25   \n",
      "32        32                     Orenmir                  6           4.95   \n",
      "103      103              Singed Scalpel                  6           4.87   \n",
      "107      107   Splitter, Foe Of Subtlety                  8           3.61   \n",
      "\n",
      "     Valor Total de Compra  \n",
      "34                   37.26  \n",
      "115                  29.75  \n",
      "32                   29.70  \n",
      "103                  29.22  \n",
      "107                  28.88  \n"
     ]
    }
   ],
   "source": [
    "metricas_itens = dados_compras.groupby(['Item ID', 'Nome do Item']).agg({\n",
    "    'Item ID': 'size',             # Número de compras\n",
    "    'Valor': ['first', 'sum']      # Preço do item (primeiro preço encontrado) e Valor total de compra\n",
    "})\n",
    "metricas_itens.columns = ['Número de compras', 'Preço do item', 'Valor Total de Compra']\n",
    "metricas_itens = metricas_itens.reset_index()\n",
    "top_5_lucrativos = metricas_itens.sort_values(by='Valor Total de Compra', ascending=False).head(5)\n",
    "\n",
    "print(\"Top 5 itens mais lucrativos pelo valor total de compra:\")\n",
    "print(top_5_lucrativos[['Item ID', 'Nome do Item', 'Número de compras', 'Preço do item', 'Valor Total de Compra']])\n"
   ]
  }
 ],
 "metadata": {
  "kernelspec": {
   "display_name": "Python 3 (ipykernel)",
   "language": "python",
   "name": "python3"
  },
  "language_info": {
   "codemirror_mode": {
    "name": "ipython",
    "version": 3
   },
   "file_extension": ".py",
   "mimetype": "text/x-python",
   "name": "python",
   "nbconvert_exporter": "python",
   "pygments_lexer": "ipython3",
   "version": "3.12.4"
  }
 },
 "nbformat": 4,
 "nbformat_minor": 4
}
